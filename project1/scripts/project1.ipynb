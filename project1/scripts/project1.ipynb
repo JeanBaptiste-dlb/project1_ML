{
 "cells": [
  {
   "cell_type": "code",
   "execution_count": 9,
   "metadata": {
    "collapsed": true,
    "tags": []
   },
   "outputs": [
    {
     "output_type": "stream",
     "name": "stdout",
     "text": "The autoreload extension is already loaded. To reload it, use:\n  %reload_ext autoreload\n"
    }
   ],
   "source": [
    "# Useful starting lines\n",
    "%matplotlib inline\n",
    "import importlib.util\n",
    "spec = importlib.util.spec_from_file_location(\"implementations\", \"./implementations.py\")\n",
    "implementations = importlib.util.module_from_spec(spec)\n",
    "spec.loader.exec_module(implementations)\n",
    "import numpy as np\n",
    "import matplotlib.pyplot as plt\n",
    "%load_ext autoreload\n",
    "%autoreload 2"
   ]
  },
  {
   "cell_type": "markdown",
   "metadata": {},
   "source": [
    "## Load the training data into feature matrix, class labels, and event ids:"
   ]
  },
  {
   "cell_type": "code",
   "execution_count": 10,
   "metadata": {
    "collapsed": false
   },
   "outputs": [],
   "source": [
    "from proj1_helpers import *\n",
    "DATA_TRAIN_PATH = '../data/train.csv' \n",
    "y, tX, ids = load_csv_data(DATA_TRAIN_PATH)"
   ]
  },
  {
   "cell_type": "markdown",
   "metadata": {},
   "source": [
    "## Do your thing crazy machine learning thing here :) ..."
   ]
  },
  {
   "cell_type": "markdown",
   "metadata": {},
   "source": [
    "## Generate predictions and save ouput in csv format for submission:"
   ]
  },
  {
   "cell_type": "code",
   "execution_count": 11,
   "metadata": {
    "collapsed": false
   },
   "outputs": [],
   "source": [
    "DATA_TEST_PATH = '../data/test.csv' \n",
    "_, tX_test, ids_test = load_csv_data(DATA_TEST_PATH)"
   ]
  },
  {
   "cell_type": "code",
   "execution_count": 12,
   "metadata": {
    "tags": []
   },
   "outputs": [],
   "source": [
    "#apply method\n",
    "def get_w_loss(y,x,method,initial_w=0,max_iters=10,gamma=0.00000005,threshold=1e-08,logs=False,batch_size=1,lambda_=0.005, store=False):\n",
    "    \"\"\"applies the algorithm described by <method>. by default as the awaited behaviour for the project, but offers some possible enhancements (batch_size,threshold, logs, store)\n",
    "    Args:\n",
    "        y (numpy.ndarray): An array with shape (n,1)\n",
    "        tx (numpy.ndarray): An array with shape (n,m)\n",
    "        method (int): 1 -> least_squares_GD\n",
    "                      2 -> stochastic_gradient_descent\n",
    "                      3 -> least_squares\n",
    "                      4 -> ridge_regression\n",
    "                      5 -> logistic_regression_gradient_descent\n",
    "        initial_w (Union[float, numpy.ndarray], optional): if a int is set w will start with an array. Defaults to 0.\n",
    "        max_iters (int, optional): number of iterations (only for descent algorithms). Defaults to 10.\n",
    "        gamma (float, optional): descent scale factor (only for descent algorithms). Defaults to 0.00000005.\n",
    "        threshold (float, optional): threshold to prevent divergence in case of linear separability (I assume). Defaults to 1e-08.\n",
    "        log (bool, optional): if True step by step logs are displayed (only for descent algorithms). Defaults to False.\n",
    "        batch_size (int, optional): size of the sample on which to compute the partial gradient for stochastic gradient descent algorithm. Defaults to 1.\n",
    "        lambda_ (float, optional): regularization factor with good values allows to limit overfitting and underfitting (only for ridge_regression and reg_logistic_regression). Defaults to 0.005.\n",
    "        store (bool, optional): [description]. Defaults to False.\n",
    "    Returns:\n",
    "        [type]: [description]\n",
    "    :raises ValueError: if method is not <6\n",
    "    \"\"\"\n",
    "    initial_=np.array([initial_w]*len(x[0]))\n",
    "    if(method==1):\n",
    "        return implementations.least_squares_GD(y,x, initial_, max_iters, gamma, logs)\n",
    "    elif(method==2): \n",
    "        return implementations.stochastic_gradient_descent(y,x, initial_, max_iters, gamma, batch_size, logs)\n",
    "    elif(method==3):\n",
    "        return implementations.least_squares(y,x)\n",
    "    elif(method==4):\n",
    "        return implementations.ridge_regression(y,x, lambda_=lambda_)\n",
    "    elif(method==5):\n",
    "        return implementations.logistic_regression_gradient_descent(y,x,initial_w,max_iters,gamma,threshold,logs,store)\n",
    "    elif(method==6):\n",
    "        #TODO: \n",
    "        return implementations.reg_logistic_regression()\n",
    "    else:\n",
    "        return ValueError\n"
   ]
  },
  {
   "cell_type": "code",
   "execution_count": 15,
   "metadata": {
    "collapsed": false,
    "tags": []
   },
   "outputs": [
    {
     "output_type": "stream",
     "name": "stdout",
     "text": "[ 4.20671005e-05 -8.42890442e-06 -5.31213942e-06 -3.87014603e-07\n  4.55167189e-05  5.63044091e-05  4.53471502e-05 -1.28059164e-07\n -1.75860551e-06 -7.19214921e-06 -1.71127318e-07  1.24353485e-07\n  4.54883614e-05 -2.50541036e-07 -3.81772440e-10 -3.67453254e-09\n -3.54402050e-06  1.01276321e-09  8.21458307e-10 -2.95652343e-06\n  6.27849835e-09 -1.07558676e-05 -6.13489488e-08  3.57970573e-05\n  3.68573566e-05  3.68571241e-05  4.43525962e-05  4.54795880e-05\n  4.54774137e-05 -3.39758707e-06]\n"
    }
   ],
   "source": [
    "OUTPUT_PATH = '../data/submission.csv'\n",
    "mls=[]\n",
    "weightss=[]\n",
    "#for i in range(-10,10,1):\n",
    "#    ml,weights=get_w(y,tX,2,i,max_iters=1000,log=False)\n",
    "#    mls.append(ml)\n",
    "#    weightss.append(weights)\n",
    "#print(np.where(mls==min(mls)))\n",
    "#print(mls)\n",
    "weights=get_w_loss(y,tX,1)[0]\n",
    "print(weights)\n",
    "\n",
    "#weights=weightss[np.where(mls==min(mls))[0][0]]\n",
    "\n",
    "y_pred = predict_labels(weights, tX_test)\n",
    "create_csv_submission(ids_test, y_pred, OUTPUT_PATH)"
   ]
  },
  {
   "cell_type": "code",
   "execution_count": null,
   "metadata": {},
   "outputs": [],
   "source": []
  }
 ],
 "metadata": {
  "anaconda-cloud": {},
  "kernelspec": {
   "name": "Python 3.8.5 64-bit",
   "display_name": "Python 3.8.5 64-bit",
   "metadata": {
    "interpreter": {
     "hash": "767d51c1340bd893661ea55ea3124f6de3c7a262a8b4abca0554b478b1e2ff90"
    }
   }
  },
  "language_info": {
   "codemirror_mode": {
    "name": "ipython",
    "version": 3
   },
   "file_extension": ".py",
   "mimetype": "text/x-python",
   "name": "python",
   "nbconvert_exporter": "python",
   "pygments_lexer": "ipython3",
   "version": "3.8.5-final"
  }
 },
 "nbformat": 4,
 "nbformat_minor": 0
}