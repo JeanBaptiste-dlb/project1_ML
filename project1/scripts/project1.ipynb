{
 "cells": [
  {
   "cell_type": "code",
   "execution_count": 3,
   "metadata": {
    "collapsed": true,
    "tags": []
   },
   "outputs": [
    {
     "output_type": "stream",
     "name": "stdout",
     "text": "The autoreload extension is already loaded. To reload it, use:\n  %reload_ext autoreload\n"
    }
   ],
   "source": [
    "# Useful starting lines\n",
    "%matplotlib inline\n",
    "import importlib.util\n",
    "spec = importlib.util.spec_from_file_location(\"implementations\", \"./implementations.py\")\n",
    "implementations = importlib.util.module_from_spec(spec)\n",
    "spec.loader.exec_module(implementations)\n",
    "import numpy as np\n",
    "import matplotlib.pyplot as plt\n",
    "%load_ext autoreload\n",
    "%autoreload 2"
   ]
  },
  {
   "cell_type": "markdown",
   "metadata": {},
   "source": [
    "## Load the training data into feature matrix, class labels, and event ids:"
   ]
  },
  {
   "cell_type": "code",
   "execution_count": 4,
   "metadata": {
    "collapsed": false
   },
   "outputs": [],
   "source": [
    "from proj1_helpers import *\n",
    "DATA_TRAIN_PATH = '../data/train.csv' \n",
    "y, tX, ids = load_csv_data(DATA_TRAIN_PATH)"
   ]
  },
  {
   "cell_type": "markdown",
   "metadata": {},
   "source": [
    "## Do your thing crazy machine learning thing here :) ..."
   ]
  },
  {
   "cell_type": "markdown",
   "metadata": {},
   "source": [
    "## Generate predictions and save ouput in csv format for submission:"
   ]
  },
  {
   "cell_type": "code",
   "execution_count": 5,
   "metadata": {
    "collapsed": false
   },
   "outputs": [],
   "source": [
    "DATA_TEST_PATH = '../data/test.csv' \n",
    "_, tX_test, ids_test = load_csv_data(DATA_TEST_PATH)"
   ]
  },
  {
   "cell_type": "code",
   "execution_count": 6,
   "metadata": {
    "tags": []
   },
   "outputs": [],
   "source": [
    "#apply method\n",
    "def get_w_loss(y,x,method,initial_w=0,max_iters=10,gamma=0.00000005,threshold=1e-08,logs=False,batch_size=1,lambda_=0.005, store=False):\n",
    "    \"\"\"applies the algorithm described by <method>. by default as the awaited behaviour for the project, but offers some possible enhancements (batch_size,threshold, logs, store)\n",
    "    Args:\n",
    "        y (numpy.ndarray): An array with shape (n,1)\n",
    "        tx (numpy.ndarray): An array with shape (n,m)\n",
    "        method (int): 1 -> least_squares_GD\n",
    "                      2 -> stochastic_gradient_descent\n",
    "                      3 -> least_squares\n",
    "                      4 -> ridge_regression\n",
    "                      5 -> logistic_regression_gradient_descent\n",
    "        initial_w (Union[float, numpy.ndarray], optional): if a int is set w will start with an array. Defaults to 0.\n",
    "        max_iters (int, optional): number of iterations (only for descent algorithms). Defaults to 10.\n",
    "        gamma (float, optional): descent scale factor (only for descent algorithms). Defaults to 0.00000005.\n",
    "        threshold (float, optional): threshold to prevent divergence in case of linear separability (I assume). Defaults to 1e-08.\n",
    "        log (bool, optional): if True step by step logs are displayed (only for descent algorithms). Defaults to False.\n",
    "        batch_size (int, optional): size of the sample on which to compute the partial gradient for stochastic gradient descent algorithm. Defaults to 1.\n",
    "        lambda_ (float, optional): regularization factor with good values allows to limit overfitting and underfitting (only for ridge_regression and reg_logistic_regression). Defaults to 0.005.\n",
    "        store (bool, optional): [description]. Defaults to False.\n",
    "    Returns:\n",
    "        [type]: [description]\n",
    "    :raises ValueError: if method is not <6\n",
    "    \"\"\"\n",
    "    initial_=np.array([initial_w]*len(x[0]))\n",
    "    if(method==1):\n",
    "        return implementations.least_squares_GD(y,x, initial_, max_iters, gamma, logs)\n",
    "    elif(method==2): \n",
    "        return implementations.stochastic_gradient_descent(y,x, initial_, max_iters, gamma, batch_size, logs)\n",
    "    elif(method==3):\n",
    "        return implementations.least_squares(y,x)\n",
    "    elif(method==4):\n",
    "        return implementations.ridge_regression(y,x, lambda_=lambda_)\n",
    "    elif(method==5):\n",
    "        return implementations.logistic_regression_gradient_descent(y,x,initial_w,max_iters,gamma,threshold,logs,store)\n",
    "    elif(method==6):\n",
    "        #TODO: \n",
    "        return implementations.reg_logistic_regression()\n",
    "    else:\n",
    "        return ValueError\n"
   ]
  },
  {
   "cell_type": "code",
   "execution_count": 7,
   "metadata": {
    "collapsed": false,
    "tags": []
   },
   "outputs": [
    {
     "output_type": "stream",
     "name": "stdout",
     "text": "Current iteration=0, loss=173286.79514050332\n[-6.17887673e-06  1.19943068e-03 -4.27148113e-04 -5.02966885e-04\n -3.21625290e-04  3.69603517e-03  3.08322172e-03  3.69992628e-03\n -1.37888379e-05 -1.38235309e-04 -1.02280267e-03 -1.09121753e-05\n  3.13320666e-06  3.69976193e-03 -1.90593905e-04  3.74478870e-08\n -6.20976348e-08 -3.07730393e-04  1.09704313e-07 -1.76073141e-07\n -2.80658172e-04  1.93013786e-07 -1.34491625e-03 -7.17524472e-06\n  2.20956967e-03  2.51972284e-03  2.51973971e-03  3.55257615e-03\n  3.70057986e-03  3.70050357e-03 -5.24478360e-04]-2110586.6709912037\n"
    }
   ],
   "source": [
    "OUTPUT_PATH = '../data/submission.csv'\n",
    "mls=[]\n",
    "weightss=[]\n",
    "#for i in range(-10,10,1):\n",
    "#    ml,weights=get_w(y,tX,2,i,max_iters=1000,log=False)\n",
    "#    mls.append(ml)\n",
    "#    weightss.append(weights)\n",
    "#print(np.where(mls==min(mls)))\n",
    "#print(mls)\n",
    "method=5\n",
    "weights, loss=get_w_loss(y,tX,method,logs=True,max_iters=100, gamma=0.0000000000005)\n",
    "print(str(weights) + str(loss))\n",
    "#weights=weightss[np.where(mls==min(mls))[0][0]]\n",
    "\n",
    "if(method==5):\n",
    "    data = np.c_[np.ones((_.shape[0], 1)), tX_test]\n",
    "else:\n",
    "    data=tX_test\n",
    "y_pred = predict_labels(weights, data)\n",
    "create_csv_submission(ids_test, y_pred, OUTPUT_PATH)"
   ]
  },
  {
   "cell_type": "code",
   "execution_count": 9,
   "metadata": {
    "tags": []
   },
   "outputs": [
    {
     "output_type": "stream",
     "name": "stdout",
     "text": "1.0\n"
    }
   ],
   "source": [
    " print(y[0]) \n"
   ]
  }
 ],
 "metadata": {
  "anaconda-cloud": {},
  "kernelspec": {
   "name": "Python 3.8.5 64-bit",
   "display_name": "Python 3.8.5 64-bit",
   "metadata": {
    "interpreter": {
     "hash": "767d51c1340bd893661ea55ea3124f6de3c7a262a8b4abca0554b478b1e2ff90"
    }
   }
  },
  "language_info": {
   "codemirror_mode": {
    "name": "ipython",
    "version": 3
   },
   "file_extension": ".py",
   "mimetype": "text/x-python",
   "name": "python",
   "nbconvert_exporter": "python",
   "pygments_lexer": "ipython3",
   "version": "3.8.5-final"
  }
 },
 "nbformat": 4,
 "nbformat_minor": 0
}